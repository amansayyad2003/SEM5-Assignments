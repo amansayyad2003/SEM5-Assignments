{
 "cells": [
  {
   "cell_type": "code",
   "execution_count": 1,
   "id": "367a16e5",
   "metadata": {},
   "outputs": [
    {
     "name": "stdout",
     "output_type": "stream",
     "text": [
      "\t\t\t!!! Product to check given number is prime or not !!!\n",
      "\n",
      "Enter the integer: 1\n",
      "Given number is PRIME NUMBER\n",
      "\n",
      "1. To continue type C\n",
      "2. To break type any other character\n",
      "e\n"
     ]
    }
   ],
   "source": [
    "print(\"\\t\\t\\t!!! Product to check given number is prime or not !!!\\n\")\n",
    "while(True):\n",
    "    num = int(input(\"Enter the integer: \"))\n",
    "    num1 = num\n",
    "    i = 2\n",
    "    while (i >= 2 and i <= num/2):\n",
    "        if not (num1 % i):\n",
    "            print(\"Given number is NOT A PRIME NUMBER\\n\")\n",
    "            break;\n",
    "        i += 1\n",
    "    if (num1 % i):\n",
    "        print(\"Given number is PRIME NUMBER\\n\")\n",
    "    char = input(\"1. To continue type C\\n2. To break type any other character\\n\")\n",
    "    if(char != 'C'):\n",
    "        break"
   ]
  },
  {
   "cell_type": "code",
   "execution_count": null,
   "id": "55aedbc3",
   "metadata": {},
   "outputs": [],
   "source": []
  }
 ],
 "metadata": {
  "kernelspec": {
   "display_name": "Python 3 (ipykernel)",
   "language": "python",
   "name": "python3"
  },
  "language_info": {
   "codemirror_mode": {
    "name": "ipython",
    "version": 3
   },
   "file_extension": ".py",
   "mimetype": "text/x-python",
   "name": "python",
   "nbconvert_exporter": "python",
   "pygments_lexer": "ipython3",
   "version": "3.9.13"
  }
 },
 "nbformat": 4,
 "nbformat_minor": 5
}
