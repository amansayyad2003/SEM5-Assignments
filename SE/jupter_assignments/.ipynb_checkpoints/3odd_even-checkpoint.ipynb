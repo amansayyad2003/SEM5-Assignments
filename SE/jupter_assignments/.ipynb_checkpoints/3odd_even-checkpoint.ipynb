{
 "cells": [
  {
   "cell_type": "code",
   "execution_count": 1,
   "id": "2a2b1c4a",
   "metadata": {},
   "outputs": [
    {
     "name": "stdout",
     "output_type": "stream",
     "text": [
      "Enter the number: 234\n"
     ]
    }
   ],
   "source": [
    "num = int(input(\"Enter the number: \"))"
   ]
  },
  {
   "cell_type": "code",
   "execution_count": 2,
   "id": "7c597b83",
   "metadata": {},
   "outputs": [
    {
     "name": "stdout",
     "output_type": "stream",
     "text": [
      "Given number is EVEN\n",
      "\n"
     ]
    }
   ],
   "source": [
    "if not (num % 2):\n",
    "    print(\"Given number is EVEN\\n\")\n",
    "else:\n",
    "    print(\"Given number is ODD\")"
   ]
  },
  {
   "cell_type": "code",
   "execution_count": null,
   "id": "694d0e73",
   "metadata": {},
   "outputs": [],
   "source": []
  }
 ],
 "metadata": {
  "kernelspec": {
   "display_name": "Python 3 (ipykernel)",
   "language": "python",
   "name": "python3"
  },
  "language_info": {
   "codemirror_mode": {
    "name": "ipython",
    "version": 3
   },
   "file_extension": ".py",
   "mimetype": "text/x-python",
   "name": "python",
   "nbconvert_exporter": "python",
   "pygments_lexer": "ipython3",
   "version": "3.9.13"
  }
 },
 "nbformat": 4,
 "nbformat_minor": 5
}
