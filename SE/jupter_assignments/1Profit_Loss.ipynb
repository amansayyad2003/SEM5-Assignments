{
 "cells": [
  {
   "cell_type": "code",
   "execution_count": 1,
   "id": "75d176a4",
   "metadata": {},
   "outputs": [
    {
     "name": "stdout",
     "output_type": "stream",
     "text": [
      "\t\t\t !!! Welcome to my Product !!! \n",
      "\n",
      "-> By this product you can able to identify does you have profit or loss and also amount of profit or loss\n",
      "\n",
      "\n"
     ]
    }
   ],
   "source": [
    "print(\"\\t\\t\\t !!! Welcome to my Product !!! \\n\")\n",
    "print(\"-> By this product you can able to identify does you have profit or loss and also amount of profit or loss\\n\\n\")"
   ]
  },
  {
   "cell_type": "code",
   "execution_count": null,
   "id": "142ad8d0",
   "metadata": {},
   "outputs": [],
   "source": [
    "while(1):\n",
    "    cost_price = int(input(\"Enter the cost price: \"))\n",
    "    if(cost_price < 0):\n",
    "        print(\"I think there is typo mistake, cost_price can't be negative\\n\")\n",
    "    elif(cost_price == 0):\n",
    "        print(\"Cost price is 0 which is not possible\\n\")\n",
    "    else:\n",
    "        break"
   ]
  },
  {
   "cell_type": "code",
   "execution_count": null,
   "id": "edb4ec4f",
   "metadata": {},
   "outputs": [],
   "source": [
    "while(1):\n",
    "    selling_price = int(input(\"Enter the selling price: \"))\n",
    "    if(selling_price < 0):\n",
    "        print(\"I think there is typo mistake, selling_price can't be negative\\n\")\n",
    "    elif(selling_price == 0):\n",
    "        print(\"Selling Price is 0 which is not possible\\n\")\n",
    "    else:\n",
    "        break"
   ]
  },
  {
   "cell_type": "code",
   "execution_count": null,
   "id": "bc4042b4",
   "metadata": {},
   "outputs": [],
   "source": [
    "\n",
    "profit_amount = selling_price - cost_price\n",
    "if(profit_amount > 0):\n",
    "    profit = (profit_amount / cost_price) * 100\n",
    "    print(\"!!! You have a PROFIT !!!\\n\")\n",
    "    print(\"Profit amount: \" , profit)\n",
    "elif (profit_amount < 0):\n",
    "    profit = (-profit_amount / cost_price) * 100\n",
    "    print(\"Sorry you have a LOSS :(\\n\")\n",
    "    print(\"Loss amount: \" , profit)\n",
    "else:\n",
    "    profit = 0\n",
    "    print(\"You dont't have either PROFIT or LOSS\\n\")\n"
   ]
  },
  {
   "cell_type": "code",
   "execution_count": null,
   "id": "9d2f4a0f",
   "metadata": {},
   "outputs": [],
   "source": []
  }
 ],
 "metadata": {
  "kernelspec": {
   "display_name": "Python 3 (ipykernel)",
   "language": "python",
   "name": "python3"
  },
  "language_info": {
   "codemirror_mode": {
    "name": "ipython",
    "version": 3
   },
   "file_extension": ".py",
   "mimetype": "text/x-python",
   "name": "python",
   "nbconvert_exporter": "python",
   "pygments_lexer": "ipython3",
   "version": "3.9.13"
  }
 },
 "nbformat": 4,
 "nbformat_minor": 5
}
